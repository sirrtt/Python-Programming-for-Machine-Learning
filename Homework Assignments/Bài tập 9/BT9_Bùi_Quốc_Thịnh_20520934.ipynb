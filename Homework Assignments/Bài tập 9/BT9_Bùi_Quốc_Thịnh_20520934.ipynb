{
  "nbformat": 4,
  "nbformat_minor": 0,
  "metadata": {
    "colab": {
      "provenance": []
    },
    "kernelspec": {
      "name": "python3",
      "display_name": "Python 3"
    },
    "accelerator": "GPU"
  },
  "cells": [
    {
      "cell_type": "code",
      "metadata": {
        "id": "mQ4AkwUDHajp"
      },
      "source": [
        "from keras.layers import Input, Dense, Conv2D, MaxPooling2D, Flatten\n",
        "from keras.models import load_model, Model\n",
        "import tensorflow as tf\n",
        "import keras\n",
        "\n",
        "class LeNetCNN:\n",
        "  # constructor\n",
        "  def __init__(self):\n",
        "    self.model = None\n",
        "\n",
        "  # Define structure of the CNN\n",
        "  def build(self, input_dim):\n",
        "    input = Input(shape = input_dim) # X dau vao cua minh\n",
        "    C1 = Conv2D(6, (3, 3), padding='same', activation='relu')(input)\n",
        "    S2 = MaxPooling2D(pool_size=(2, 2), padding=\"same\")(C1)\n",
        "    C3 = Conv2D(16, (3, 3), padding='same', activation='relu')(S2)\n",
        "    S4 = MaxPooling2D(pool_size=(2, 2), padding=\"same\")(C3)\n",
        "\n",
        "    flat = Flatten()(S4)\n",
        "    # These like ANN\n",
        "    F5 = Dense(120, activation='relu', use_bias=True)(flat)\n",
        "    F6 = Dense(84, activation='relu', use_bias=True)(F5)\n",
        "    output = Dense(10, activation='softmax', use_bias=True)(F6) # y~ output\n",
        "    self.model = Model(input, output)\n",
        "  \n",
        "  # Train the model\n",
        "  def train(self, x_train, y_train, x_val, y_val): # x_train chinh la X, y_train chinh la ground-truth\n",
        "    sgd = keras.optimizers.SGD(learning_rate=0.01)\n",
        "    adam = keras.optimizers.Adam(learning_rate=0.01)\n",
        "    self.model.compile(optimizer=sgd, loss = 'categorical_crossentropy', metrics=['accuracy'])\n",
        "    self.model.fit(x_train, y_train, validation_data = (x_val, y_val), epochs = 50, batch_size = 128)\n",
        "  \n",
        "  # Load model from file\n",
        "  def load(self, model_file):\n",
        "    self.model = load_model(model_file)\n",
        "  \n",
        "  # save the trained model\n",
        "  def save(self, model_file):\n",
        "    self.model.save(model_file)\n",
        "  \n",
        "  # Show the architecture of the model\n",
        "  def summary(self):\n",
        "    self.model.summary()\n",
        "\n",
        "  # Test the model with a given input\n",
        "  def predict(self, x_test):\n",
        "    return self.model.predict(x_test)\n",
        "\n"
      ],
      "execution_count": 1,
      "outputs": []
    },
    {
      "cell_type": "code",
      "metadata": {
        "id": "U8lfBN3Y4U3G"
      },
      "source": [
        "from keras.layers import Input, Dense, Conv2D, MaxPooling2D, Flatten, Add, AveragePooling2D\n",
        "from keras.models import load_model, Model\n",
        "#from keras.objectives import categorical_crossentropy\n",
        "\n",
        "class DeltaCNN:\n",
        "  # constructor\n",
        "  def __init__(self):\n",
        "    self.model = None\n",
        "\n",
        "  # Define structure of the CNN\n",
        "  def build(self, input_dim):\n",
        "    input = Input(shape = input_dim) # X dau vao cua minh\n",
        "    \n",
        "    C1 = Conv2D(8, (3, 3), padding='same', activation='relu')(input)\n",
        "    S2 = MaxPooling2D(pool_size=(2, 2), padding=\"same\")(C1)\n",
        "\n",
        "    C3 = Conv2D(8, (3, 3), padding='same', activation='relu')(S2)\n",
        "    C4 = Conv2D(8, (3, 3), padding='same', activation='relu')(C3)\n",
        "    C5 = Add()([C4, S2])\n",
        "\n",
        "    C6= Conv2D(16, (3, 3), strides = (2,2), padding='same', activation='relu')(C5)\n",
        "    C7 = Conv2D(16, (3, 3), padding='same', activation='relu')(C6)\n",
        "    C8 = Conv2D(16, (3, 3), padding='same', activation='relu')(C7)\n",
        "    C9 = Add()([C8, C6])\n",
        "\n",
        "    P10 = AveragePooling2D()(C9)\n",
        "    flat = Flatten()(P10)\n",
        "    F0 = Dense(400, activation='sigmoid', use_bias=True)(flat)\n",
        "    output = Dense(10, activation='softmax', use_bias=True)(F0)\n",
        "\n",
        "    self.model = Model(input, output)\n",
        "    self.model.compile(optimizer=\"adam\", loss = 'categorical_crossentropy', metrics=['accuracy'])\n",
        "  \n",
        "  # Train the model\n",
        "  def train(self, x_train, y_train, x_val, y_val): # x_train chinh la X, y_train chinh la ground-truthewedsdAQ  a QA\n",
        "    self.model.fit(x_train, y_train, validation_data = (x_val, y_val), epochs = 50, batch_size = 128)\n",
        "  \n",
        "  # Load model from file\n",
        "  def load(self, model_file):\n",
        "    self.model = load_model(model_file)\n",
        "  \n",
        "  # save the trained model\n",
        "  def save(self, model_file):\n",
        "    self.model.save(model_file)\n",
        "  \n",
        "  # Show the architecture of the model\n",
        "  def summary(self):\n",
        "    self.model.summary()\n",
        "\n",
        "  # Test the model with a given input\n",
        "  def predict(self, x_test):\n",
        "    return self.model.predict(x_test)"
      ],
      "execution_count": 2,
      "outputs": []
    },
    {
      "cell_type": "code",
      "metadata": {
        "id": "QOwcpLbYHno7",
        "colab": {
          "base_uri": "https://localhost:8080/"
        },
        "outputId": "acff8a59-b9a7-4bc4-b364-68ab10411f1e"
      },
      "source": [
        "from keras.datasets import mnist\n",
        "\n",
        "(x_train, y_train), (x_test, y_test) = mnist.load_data()\n",
        "\n",
        "print(x_train.shape)\n",
        "print(y_train.shape)\n",
        "print(x_test.shape)\n",
        "print(y_test.shape)\n"
      ],
      "execution_count": 3,
      "outputs": [
        {
          "output_type": "stream",
          "name": "stdout",
          "text": [
            "Downloading data from https://storage.googleapis.com/tensorflow/tf-keras-datasets/mnist.npz\n",
            "11490434/11490434 [==============================] - 2s 0us/step\n",
            "(60000, 28, 28)\n",
            "(60000,)\n",
            "(10000, 28, 28)\n",
            "(10000,)\n"
          ]
        }
      ]
    },
    {
      "cell_type": "code",
      "source": [
        "from collections import Counter"
      ],
      "metadata": {
        "id": "KdvXyUKQqzSA"
      },
      "execution_count": 4,
      "outputs": []
    },
    {
      "cell_type": "code",
      "source": [
        "counter = Counter(y_train).most_common(3)"
      ],
      "metadata": {
        "id": "xy9p35J9q5zj"
      },
      "execution_count": 5,
      "outputs": []
    },
    {
      "cell_type": "code",
      "source": [
        "counter"
      ],
      "metadata": {
        "colab": {
          "base_uri": "https://localhost:8080/"
        },
        "id": "PttSwCSOs8Fr",
        "outputId": "c0a3df06-0145-41b8-8517-90b520ed91ee"
      },
      "execution_count": 6,
      "outputs": [
        {
          "output_type": "execute_result",
          "data": {
            "text/plain": [
              "[(1, 6742), (7, 6265), (3, 6131)]"
            ]
          },
          "metadata": {},
          "execution_count": 6
        }
      ]
    },
    {
      "cell_type": "code",
      "metadata": {
        "id": "hjbM2ZrWON53"
      },
      "source": [
        "import numpy as np\n",
        "\n",
        "def onehot(y):\n",
        "  oh = np.zeros((y.shape[0], 10))\n",
        "  for i in range(y.shape[0]):\n",
        "    oh[i, int(y[i])]=1\n",
        "  return oh"
      ],
      "execution_count": 7,
      "outputs": []
    },
    {
      "cell_type": "code",
      "metadata": {
        "id": "XSRZ6AMNWWQg"
      },
      "source": [
        "import numpy as np\n",
        "def norm_zero_one(x_train):\n",
        "  min_val = np.min(x_train)\n",
        "  max_val = np.max(x_train)\n",
        "  x_train_norm = (x_train-min_val)/(max_val-min_val)\n",
        "  return x_train_norm\n",
        "\n",
        "def norm_normal_dist(x_train):\n",
        "  mean_val = np.mean(x_train)\n",
        "  std_val = np.std(x_train)\n",
        "  x_train_norm = (x_train-mean_val)/std_val\n",
        "  return x_train_norm"
      ],
      "execution_count": 8,
      "outputs": []
    },
    {
      "cell_type": "code",
      "metadata": {
        "id": "-HXJByzMMyWq"
      },
      "source": [
        "from sklearn import preprocessing\n",
        "import numpy as np\n",
        "\n",
        "#enc = preprocessing.OneHotEncoder()\n",
        "\n",
        "#enc.fit(y_train)\n",
        "\n",
        "#y_train_oh = enc.transform(y_train).toarray()\n",
        "#y_train_oh.shape\n",
        "y_train_oh = onehot(y_train)\n",
        "y_train_oh.shape\n",
        "\n",
        "y_test_oh = onehot(y_test)\n",
        "y_test_oh.shape\n",
        "\n",
        "x_train_norm = x_train / 255.0\n",
        "x_test_norm = x_test / 255.0\n",
        "\n",
        "#x_train_norm = x_train_norm[:,:,:, np.newaxis] # Optional: Convert 60000x28x28 -> 60000x28x28x1\n",
        "#x_test_norm = x_test_norm[:,:,:, np.newaxis] # Optional: Convert 60000x28x28 -> 60000x28x28x1"
      ],
      "execution_count": 9,
      "outputs": []
    },
    {
      "cell_type": "code",
      "metadata": {
        "colab": {
          "base_uri": "https://localhost:8080/"
        },
        "id": "vjd-0_h89KFL",
        "outputId": "bc734981-4314-43b5-be4d-f32672088656"
      },
      "source": [
        "x_train_norm.shape"
      ],
      "execution_count": 10,
      "outputs": [
        {
          "output_type": "execute_result",
          "data": {
            "text/plain": [
              "(60000, 28, 28)"
            ]
          },
          "metadata": {},
          "execution_count": 10
        }
      ]
    },
    {
      "cell_type": "code",
      "metadata": {
        "id": "J8JX9Eeauvmi",
        "colab": {
          "base_uri": "https://localhost:8080/"
        },
        "outputId": "d6c3eba6-a40d-410d-8f1c-5b441d6a18d1"
      },
      "source": [
        "cnn = DeltaCNN()\n",
        "cnn.build((28, 28, 1))\n",
        "cnn.summary()\n",
        "cnn.train(x_train_norm, y_train_oh, x_test_norm, y_test_oh)"
      ],
      "execution_count": 11,
      "outputs": [
        {
          "output_type": "stream",
          "name": "stdout",
          "text": [
            "Model: \"model\"\n",
            "__________________________________________________________________________________________________\n",
            " Layer (type)                   Output Shape         Param #     Connected to                     \n",
            "==================================================================================================\n",
            " input_1 (InputLayer)           [(None, 28, 28, 1)]  0           []                               \n",
            "                                                                                                  \n",
            " conv2d (Conv2D)                (None, 28, 28, 8)    80          ['input_1[0][0]']                \n",
            "                                                                                                  \n",
            " max_pooling2d (MaxPooling2D)   (None, 14, 14, 8)    0           ['conv2d[0][0]']                 \n",
            "                                                                                                  \n",
            " conv2d_1 (Conv2D)              (None, 14, 14, 8)    584         ['max_pooling2d[0][0]']          \n",
            "                                                                                                  \n",
            " conv2d_2 (Conv2D)              (None, 14, 14, 8)    584         ['conv2d_1[0][0]']               \n",
            "                                                                                                  \n",
            " add (Add)                      (None, 14, 14, 8)    0           ['conv2d_2[0][0]',               \n",
            "                                                                  'max_pooling2d[0][0]']          \n",
            "                                                                                                  \n",
            " conv2d_3 (Conv2D)              (None, 7, 7, 16)     1168        ['add[0][0]']                    \n",
            "                                                                                                  \n",
            " conv2d_4 (Conv2D)              (None, 7, 7, 16)     2320        ['conv2d_3[0][0]']               \n",
            "                                                                                                  \n",
            " conv2d_5 (Conv2D)              (None, 7, 7, 16)     2320        ['conv2d_4[0][0]']               \n",
            "                                                                                                  \n",
            " add_1 (Add)                    (None, 7, 7, 16)     0           ['conv2d_5[0][0]',               \n",
            "                                                                  'conv2d_3[0][0]']               \n",
            "                                                                                                  \n",
            " average_pooling2d (AveragePool  (None, 3, 3, 16)    0           ['add_1[0][0]']                  \n",
            " ing2D)                                                                                           \n",
            "                                                                                                  \n",
            " flatten (Flatten)              (None, 144)          0           ['average_pooling2d[0][0]']      \n",
            "                                                                                                  \n",
            " dense (Dense)                  (None, 400)          58000       ['flatten[0][0]']                \n",
            "                                                                                                  \n",
            " dense_1 (Dense)                (None, 10)           4010        ['dense[0][0]']                  \n",
            "                                                                                                  \n",
            "==================================================================================================\n",
            "Total params: 69,066\n",
            "Trainable params: 69,066\n",
            "Non-trainable params: 0\n",
            "__________________________________________________________________________________________________\n",
            "Epoch 1/50\n",
            "469/469 [==============================] - 17s 11ms/step - loss: 0.4490 - accuracy: 0.8573 - val_loss: 0.1151 - val_accuracy: 0.9639\n",
            "Epoch 2/50\n",
            "469/469 [==============================] - 5s 10ms/step - loss: 0.1050 - accuracy: 0.9682 - val_loss: 0.0718 - val_accuracy: 0.9777\n",
            "Epoch 3/50\n",
            "469/469 [==============================] - 3s 6ms/step - loss: 0.0754 - accuracy: 0.9767 - val_loss: 0.0600 - val_accuracy: 0.9802\n",
            "Epoch 4/50\n",
            "469/469 [==============================] - 3s 5ms/step - loss: 0.0597 - accuracy: 0.9811 - val_loss: 0.0448 - val_accuracy: 0.9868\n",
            "Epoch 5/50\n",
            "469/469 [==============================] - 3s 6ms/step - loss: 0.0498 - accuracy: 0.9848 - val_loss: 0.0452 - val_accuracy: 0.9855\n",
            "Epoch 6/50\n",
            "469/469 [==============================] - 3s 6ms/step - loss: 0.0430 - accuracy: 0.9871 - val_loss: 0.0517 - val_accuracy: 0.9833\n",
            "Epoch 7/50\n",
            "469/469 [==============================] - 3s 7ms/step - loss: 0.0382 - accuracy: 0.9880 - val_loss: 0.0320 - val_accuracy: 0.9892\n",
            "Epoch 8/50\n",
            "469/469 [==============================] - 3s 6ms/step - loss: 0.0342 - accuracy: 0.9894 - val_loss: 0.0337 - val_accuracy: 0.9892\n",
            "Epoch 9/50\n",
            "469/469 [==============================] - 2s 5ms/step - loss: 0.0320 - accuracy: 0.9896 - val_loss: 0.0318 - val_accuracy: 0.9891\n",
            "Epoch 10/50\n",
            "469/469 [==============================] - 3s 6ms/step - loss: 0.0275 - accuracy: 0.9913 - val_loss: 0.0367 - val_accuracy: 0.9882\n",
            "Epoch 11/50\n",
            "469/469 [==============================] - 3s 7ms/step - loss: 0.0252 - accuracy: 0.9919 - val_loss: 0.0305 - val_accuracy: 0.9897\n",
            "Epoch 12/50\n",
            "469/469 [==============================] - 3s 6ms/step - loss: 0.0238 - accuracy: 0.9923 - val_loss: 0.0384 - val_accuracy: 0.9867\n",
            "Epoch 13/50\n",
            "469/469 [==============================] - 3s 6ms/step - loss: 0.0219 - accuracy: 0.9930 - val_loss: 0.0294 - val_accuracy: 0.9911\n",
            "Epoch 14/50\n",
            "469/469 [==============================] - 3s 6ms/step - loss: 0.0185 - accuracy: 0.9944 - val_loss: 0.0294 - val_accuracy: 0.9905\n",
            "Epoch 15/50\n",
            "469/469 [==============================] - 3s 6ms/step - loss: 0.0184 - accuracy: 0.9939 - val_loss: 0.0286 - val_accuracy: 0.9906\n",
            "Epoch 16/50\n",
            "469/469 [==============================] - 3s 6ms/step - loss: 0.0173 - accuracy: 0.9943 - val_loss: 0.0309 - val_accuracy: 0.9896\n",
            "Epoch 17/50\n",
            "469/469 [==============================] - 3s 5ms/step - loss: 0.0160 - accuracy: 0.9947 - val_loss: 0.0266 - val_accuracy: 0.9911\n",
            "Epoch 18/50\n",
            "469/469 [==============================] - 3s 5ms/step - loss: 0.0144 - accuracy: 0.9956 - val_loss: 0.0291 - val_accuracy: 0.9906\n",
            "Epoch 19/50\n",
            "469/469 [==============================] - 3s 5ms/step - loss: 0.0131 - accuracy: 0.9958 - val_loss: 0.0249 - val_accuracy: 0.9920\n",
            "Epoch 20/50\n",
            "469/469 [==============================] - 3s 5ms/step - loss: 0.0119 - accuracy: 0.9962 - val_loss: 0.0277 - val_accuracy: 0.9913\n",
            "Epoch 21/50\n",
            "469/469 [==============================] - 3s 6ms/step - loss: 0.0116 - accuracy: 0.9963 - val_loss: 0.0298 - val_accuracy: 0.9907\n",
            "Epoch 22/50\n",
            "469/469 [==============================] - 3s 5ms/step - loss: 0.0106 - accuracy: 0.9967 - val_loss: 0.0328 - val_accuracy: 0.9899\n",
            "Epoch 23/50\n",
            "469/469 [==============================] - 2s 5ms/step - loss: 0.0129 - accuracy: 0.9958 - val_loss: 0.0285 - val_accuracy: 0.9904\n",
            "Epoch 24/50\n",
            "469/469 [==============================] - 3s 5ms/step - loss: 0.0090 - accuracy: 0.9974 - val_loss: 0.0268 - val_accuracy: 0.9917\n",
            "Epoch 25/50\n",
            "469/469 [==============================] - 3s 7ms/step - loss: 0.0091 - accuracy: 0.9973 - val_loss: 0.0313 - val_accuracy: 0.9906\n",
            "Epoch 26/50\n",
            "469/469 [==============================] - 3s 5ms/step - loss: 0.0085 - accuracy: 0.9973 - val_loss: 0.0298 - val_accuracy: 0.9911\n",
            "Epoch 27/50\n",
            "469/469 [==============================] - 2s 5ms/step - loss: 0.0078 - accuracy: 0.9977 - val_loss: 0.0279 - val_accuracy: 0.9912\n",
            "Epoch 28/50\n",
            "469/469 [==============================] - 3s 6ms/step - loss: 0.0066 - accuracy: 0.9980 - val_loss: 0.0278 - val_accuracy: 0.9925\n",
            "Epoch 29/50\n",
            "469/469 [==============================] - 3s 6ms/step - loss: 0.0066 - accuracy: 0.9981 - val_loss: 0.0302 - val_accuracy: 0.9913\n",
            "Epoch 30/50\n",
            "469/469 [==============================] - 3s 5ms/step - loss: 0.0079 - accuracy: 0.9976 - val_loss: 0.0286 - val_accuracy: 0.9918\n",
            "Epoch 31/50\n",
            "469/469 [==============================] - 3s 5ms/step - loss: 0.0082 - accuracy: 0.9973 - val_loss: 0.0309 - val_accuracy: 0.9905\n",
            "Epoch 32/50\n",
            "469/469 [==============================] - 3s 5ms/step - loss: 0.0067 - accuracy: 0.9978 - val_loss: 0.0294 - val_accuracy: 0.9909\n",
            "Epoch 33/50\n",
            "469/469 [==============================] - 3s 5ms/step - loss: 0.0051 - accuracy: 0.9984 - val_loss: 0.0283 - val_accuracy: 0.9918\n",
            "Epoch 34/50\n",
            "469/469 [==============================] - 3s 6ms/step - loss: 0.0060 - accuracy: 0.9979 - val_loss: 0.0258 - val_accuracy: 0.9921\n",
            "Epoch 35/50\n",
            "469/469 [==============================] - 3s 5ms/step - loss: 0.0047 - accuracy: 0.9986 - val_loss: 0.0304 - val_accuracy: 0.9909\n",
            "Epoch 36/50\n",
            "469/469 [==============================] - 2s 5ms/step - loss: 0.0059 - accuracy: 0.9982 - val_loss: 0.0342 - val_accuracy: 0.9908\n",
            "Epoch 37/50\n",
            "469/469 [==============================] - 3s 5ms/step - loss: 0.0065 - accuracy: 0.9979 - val_loss: 0.0321 - val_accuracy: 0.9916\n",
            "Epoch 38/50\n",
            "469/469 [==============================] - 3s 6ms/step - loss: 0.0061 - accuracy: 0.9980 - val_loss: 0.0296 - val_accuracy: 0.9921\n",
            "Epoch 39/50\n",
            "469/469 [==============================] - 3s 5ms/step - loss: 0.0048 - accuracy: 0.9986 - val_loss: 0.0341 - val_accuracy: 0.9898\n",
            "Epoch 40/50\n",
            "469/469 [==============================] - 3s 7ms/step - loss: 0.0048 - accuracy: 0.9985 - val_loss: 0.0361 - val_accuracy: 0.9904\n",
            "Epoch 41/50\n",
            "469/469 [==============================] - 2s 5ms/step - loss: 0.0042 - accuracy: 0.9986 - val_loss: 0.0326 - val_accuracy: 0.9907\n",
            "Epoch 42/50\n",
            "469/469 [==============================] - 3s 7ms/step - loss: 0.0041 - accuracy: 0.9989 - val_loss: 0.0322 - val_accuracy: 0.9915\n",
            "Epoch 43/50\n",
            "469/469 [==============================] - 3s 7ms/step - loss: 0.0057 - accuracy: 0.9980 - val_loss: 0.0290 - val_accuracy: 0.9915\n",
            "Epoch 44/50\n",
            "469/469 [==============================] - 3s 5ms/step - loss: 0.0039 - accuracy: 0.9987 - val_loss: 0.0421 - val_accuracy: 0.9890\n",
            "Epoch 45/50\n",
            "469/469 [==============================] - 3s 5ms/step - loss: 0.0054 - accuracy: 0.9981 - val_loss: 0.0352 - val_accuracy: 0.9901\n",
            "Epoch 46/50\n",
            "469/469 [==============================] - 3s 6ms/step - loss: 0.0030 - accuracy: 0.9992 - val_loss: 0.0296 - val_accuracy: 0.9921\n",
            "Epoch 47/50\n",
            "469/469 [==============================] - 3s 6ms/step - loss: 0.0011 - accuracy: 0.9998 - val_loss: 0.0283 - val_accuracy: 0.9916\n",
            "Epoch 48/50\n",
            "469/469 [==============================] - 3s 6ms/step - loss: 0.0030 - accuracy: 0.9989 - val_loss: 0.0382 - val_accuracy: 0.9912\n",
            "Epoch 49/50\n",
            "469/469 [==============================] - 3s 7ms/step - loss: 0.0090 - accuracy: 0.9970 - val_loss: 0.0388 - val_accuracy: 0.9900\n",
            "Epoch 50/50\n",
            "469/469 [==============================] - 3s 5ms/step - loss: 0.0046 - accuracy: 0.9984 - val_loss: 0.0350 - val_accuracy: 0.9910\n"
          ]
        }
      ]
    },
    {
      "cell_type": "code",
      "metadata": {
        "id": "zXQmG_xGyrzy"
      },
      "source": [
        "cnn.save('bien-chung-lenet.h5')"
      ],
      "execution_count": 12,
      "outputs": []
    },
    {
      "cell_type": "code",
      "metadata": {
        "id": "NzSuLa3zy4Eq",
        "colab": {
          "base_uri": "https://localhost:8080/",
          "height": 317
        },
        "outputId": "e4af4a3d-90c2-4940-bc2d-8f67e1475490"
      },
      "source": [
        "import matplotlib.pyplot as plt\n",
        "new_cnn = DeltaCNN()\n",
        "\n",
        "new_cnn.load('bien-chung-lenet.h5')\n",
        "pred = new_cnn.predict(x_test_norm)\n",
        "index = 300\n",
        "plt.imshow(x_test[index])\n",
        "plt.show()\n",
        "print('Predicted label: ', np.argmax(pred[index]))\n",
        "print('Ground-truth label: ', y_test[index])"
      ],
      "execution_count": 16,
      "outputs": [
        {
          "output_type": "stream",
          "name": "stdout",
          "text": [
            "313/313 [==============================] - 1s 2ms/step\n"
          ]
        },
        {
          "output_type": "display_data",
          "data": {
            "text/plain": [
              "<Figure size 432x288 with 1 Axes>"
            ],
            "image/png": "[encoded data removed]"
          },
          "metadata": {
            "needs_background": "light"
          }
        },
        {
          "output_type": "stream",
          "name": "stdout",
          "text": [
            "Predicted label:  4\n",
            "Ground-truth label:  4\n"
          ]
        }
      ]
    },
    {
      "cell_type": "code",
      "metadata": {
        "id": "M2qtR88aw50c",
        "colab": {
          "base_uri": "https://localhost:8080/",
          "height": 317
        },
        "outputId": "a6aa45e1-2709-4d6d-e65c-77309a6b9de5"
      },
      "source": [
        "pred = cnn.predict(x_test_norm)\n",
        "test_index = 1234\n",
        "plt.imshow(x_test[test_index])\n",
        "plt.show()\n",
        "print('Predicted label: ', np.argmax(pred[test_index]))\n",
        "print('Ground-truth label: ', y_test[test_index])"
      ],
      "execution_count": 17,
      "outputs": [
        {
          "output_type": "stream",
          "name": "stdout",
          "text": [
            "313/313 [==============================] - 1s 2ms/step\n"
          ]
        },
        {
          "output_type": "display_data",
          "data": {
            "text/plain": [
              "<Figure size 432x288 with 1 Axes>"
            ],
            "image/png": "[encoded data removed]"
          },
          "metadata": {
            "needs_background": "light"
          }
        },
        {
          "output_type": "stream",
          "name": "stdout",
          "text": [
            "Predicted label:  8\n",
            "Ground-truth label:  8\n"
          ]
        }
      ]
    },
    {
      "cell_type": "code",
      "source": [
        "print(pred.shape)\n",
        "print(y_test.shape)\n",
        "y_pred = np.array([np.argmax(i) for i in pred])\n",
        "print(y_pred.shape)"
      ],
      "metadata": {
        "colab": {
          "base_uri": "https://localhost:8080/"
        },
        "id": "q55mtk6gfURM",
        "outputId": "04f12111-e153-4d16-bc34-edad6f79a898"
      },
      "execution_count": 18,
      "outputs": [
        {
          "output_type": "stream",
          "name": "stdout",
          "text": [
            "(10000, 10)\n",
            "(10000,)\n",
            "(10000,)\n"
          ]
        }
      ]
    },
    {
      "cell_type": "code",
      "source": [
        "from sklearn.metrics import confusion_matrix, accuracy_score, ConfusionMatrixDisplay, f1_score\n",
        "import matplotlib.pyplot as plt\n",
        "def accu(y_test, y_pred):\n",
        "  cm = confusion_matrix(y_test, y_pred)\n",
        "  disp = ConfusionMatrixDisplay(confusion_matrix=cm)\n",
        "  disp.plot()\n",
        "  plt.show()\n",
        "  # print(cm)\n",
        "  return accuracy_score(y_test, y_pred), f1_score(y_test, y_pred, average='macro')"
      ],
      "metadata": {
        "id": "0cbNsLXOfWcQ"
      },
      "execution_count": 21,
      "outputs": []
    },
    {
      "cell_type": "code",
      "source": [
        "accu(y_test, y_pred)"
      ],
      "metadata": {
        "colab": {
          "base_uri": "https://localhost:8080/",
          "height": 296
        },
        "id": "z1IRYSs8fYDC",
        "outputId": "f94c488d-e1ea-401d-ffaa-c9b1875c9bae"
      },
      "execution_count": 22,
      "outputs": [
        {
          "output_type": "display_data",
          "data": {
            "text/plain": [
              "<Figure size 432x288 with 2 Axes>"
            ],
            "image/png": "[encoded data removed]"
          },
          "metadata": {
            "needs_background": "light"
          }
        },
        {
          "output_type": "execute_result",
          "data": {
            "text/plain": [
              "(0.991, 0.9909382770503118)"
            ]
          },
          "metadata": {},
          "execution_count": 22
        }
      ]
    },
    {
      "cell_type": "code",
      "metadata": {
        "id": "QYLnuXjVUMVF",
        "colab": {
          "base_uri": "https://localhost:8080/"
        },
        "outputId": "9cabf3d1-fb4b-42c7-a6db-61fb750eb69a"
      },
      "source": [
        "# Demo training a CNN model from scratch\n",
        "cnn = LeNetCNN()\n",
        "cnn.build((28, 28, 1))\n",
        "cnn.summary()\n",
        "cnn.train(x_train_norm, y_train_oh, x_test_norm, y_test_oh)\n",
        "cnn.save('trained_model.h5')"
      ],
      "execution_count": 24,
      "outputs": [
        {
          "output_type": "stream",
          "name": "stdout",
          "text": [
            "Model: \"model_1\"\n",
            "_________________________________________________________________\n",
            " Layer (type)                Output Shape              Param #   \n",
            "=================================================================\n",
            " input_2 (InputLayer)        [(None, 28, 28, 1)]       0         \n",
            "                                                                 \n",
            " conv2d_6 (Conv2D)           (None, 28, 28, 6)         60        \n",
            "                                                                 \n",
            " max_pooling2d_1 (MaxPooling  (None, 14, 14, 6)        0         \n",
            " 2D)                                                             \n",
            "                                                                 \n",
            " conv2d_7 (Conv2D)           (None, 14, 14, 16)        880       \n",
            "                                                                 \n",
            " max_pooling2d_2 (MaxPooling  (None, 7, 7, 16)         0         \n",
            " 2D)                                                             \n",
            "                                                                 \n",
            " flatten_1 (Flatten)         (None, 784)               0         \n",
            "                                                                 \n",
            " dense_2 (Dense)             (None, 120)               94200     \n",
            "                                                                 \n",
            " dense_3 (Dense)             (None, 84)                10164     \n",
            "                                                                 \n",
            " dense_4 (Dense)             (None, 10)                850       \n",
            "                                                                 \n",
            "=================================================================\n",
            "Total params: 106,154\n",
            "Trainable params: 106,154\n",
            "Non-trainable params: 0\n",
            "_________________________________________________________________\n",
            "Epoch 1/50\n",
            "469/469 [==============================] - 4s 5ms/step - loss: 1.4254 - accuracy: 0.5889 - val_loss: 0.5470 - val_accuracy: 0.8093\n",
            "Epoch 2/50\n",
            "469/469 [==============================] - 2s 4ms/step - loss: 0.3452 - accuracy: 0.8924 - val_loss: 0.2528 - val_accuracy: 0.9240\n",
            "Epoch 3/50\n",
            "469/469 [==============================] - 3s 5ms/step - loss: 0.2446 - accuracy: 0.9245 - val_loss: 0.2094 - val_accuracy: 0.9372\n",
            "Epoch 4/50\n",
            "469/469 [==============================] - 2s 4ms/step - loss: 0.1933 - accuracy: 0.9403 - val_loss: 0.1720 - val_accuracy: 0.9477\n",
            "Epoch 5/50\n",
            "469/469 [==============================] - 2s 4ms/step - loss: 0.1629 - accuracy: 0.9494 - val_loss: 0.1345 - val_accuracy: 0.9585\n",
            "Epoch 6/50\n",
            "469/469 [==============================] - 2s 4ms/step - loss: 0.1393 - accuracy: 0.9577 - val_loss: 0.1214 - val_accuracy: 0.9615\n",
            "Epoch 7/50\n",
            "469/469 [==============================] - 2s 4ms/step - loss: 0.1231 - accuracy: 0.9625 - val_loss: 0.1052 - val_accuracy: 0.9680\n",
            "Epoch 8/50\n",
            "469/469 [==============================] - 2s 4ms/step - loss: 0.1139 - accuracy: 0.9645 - val_loss: 0.1065 - val_accuracy: 0.9665\n",
            "Epoch 9/50\n",
            "469/469 [==============================] - 2s 4ms/step - loss: 0.1029 - accuracy: 0.9679 - val_loss: 0.0883 - val_accuracy: 0.9721\n",
            "Epoch 10/50\n",
            "469/469 [==============================] - 2s 5ms/step - loss: 0.0944 - accuracy: 0.9712 - val_loss: 0.0875 - val_accuracy: 0.9722\n",
            "Epoch 11/50\n",
            "469/469 [==============================] - 2s 5ms/step - loss: 0.0884 - accuracy: 0.9722 - val_loss: 0.0780 - val_accuracy: 0.9748\n",
            "Epoch 12/50\n",
            "469/469 [==============================] - 2s 4ms/step - loss: 0.0826 - accuracy: 0.9747 - val_loss: 0.0849 - val_accuracy: 0.9715\n",
            "Epoch 13/50\n",
            "469/469 [==============================] - 2s 4ms/step - loss: 0.0773 - accuracy: 0.9761 - val_loss: 0.0752 - val_accuracy: 0.9764\n",
            "Epoch 14/50\n",
            "469/469 [==============================] - 2s 5ms/step - loss: 0.0734 - accuracy: 0.9772 - val_loss: 0.0713 - val_accuracy: 0.9762\n",
            "Epoch 15/50\n",
            "469/469 [==============================] - 2s 4ms/step - loss: 0.0710 - accuracy: 0.9778 - val_loss: 0.0779 - val_accuracy: 0.9739\n",
            "Epoch 16/50\n",
            "469/469 [==============================] - 2s 4ms/step - loss: 0.0659 - accuracy: 0.9796 - val_loss: 0.0680 - val_accuracy: 0.9771\n",
            "Epoch 17/50\n",
            "469/469 [==============================] - 2s 4ms/step - loss: 0.0641 - accuracy: 0.9797 - val_loss: 0.0764 - val_accuracy: 0.9753\n",
            "Epoch 18/50\n",
            "469/469 [==============================] - 2s 4ms/step - loss: 0.0609 - accuracy: 0.9809 - val_loss: 0.0671 - val_accuracy: 0.9769\n",
            "Epoch 19/50\n",
            "469/469 [==============================] - 2s 4ms/step - loss: 0.0581 - accuracy: 0.9815 - val_loss: 0.0584 - val_accuracy: 0.9808\n",
            "Epoch 20/50\n",
            "469/469 [==============================] - 2s 5ms/step - loss: 0.0564 - accuracy: 0.9823 - val_loss: 0.0549 - val_accuracy: 0.9819\n",
            "Epoch 21/50\n",
            "469/469 [==============================] - 3s 6ms/step - loss: 0.0537 - accuracy: 0.9831 - val_loss: 0.0628 - val_accuracy: 0.9791\n",
            "Epoch 22/50\n",
            "469/469 [==============================] - 2s 4ms/step - loss: 0.0519 - accuracy: 0.9837 - val_loss: 0.0536 - val_accuracy: 0.9816\n",
            "Epoch 23/50\n",
            "469/469 [==============================] - 2s 4ms/step - loss: 0.0505 - accuracy: 0.9847 - val_loss: 0.0544 - val_accuracy: 0.9819\n",
            "Epoch 24/50\n",
            "469/469 [==============================] - 2s 4ms/step - loss: 0.0481 - accuracy: 0.9846 - val_loss: 0.0566 - val_accuracy: 0.9815\n",
            "Epoch 25/50\n",
            "469/469 [==============================] - 2s 4ms/step - loss: 0.0470 - accuracy: 0.9852 - val_loss: 0.0546 - val_accuracy: 0.9817\n",
            "Epoch 26/50\n",
            "469/469 [==============================] - 2s 4ms/step - loss: 0.0450 - accuracy: 0.9861 - val_loss: 0.0494 - val_accuracy: 0.9840\n",
            "Epoch 27/50\n",
            "469/469 [==============================] - 2s 5ms/step - loss: 0.0440 - accuracy: 0.9862 - val_loss: 0.0491 - val_accuracy: 0.9823\n",
            "Epoch 28/50\n",
            "469/469 [==============================] - 2s 5ms/step - loss: 0.0431 - accuracy: 0.9866 - val_loss: 0.0491 - val_accuracy: 0.9841\n",
            "Epoch 29/50\n",
            "469/469 [==============================] - 3s 6ms/step - loss: 0.0413 - accuracy: 0.9871 - val_loss: 0.0493 - val_accuracy: 0.9829\n",
            "Epoch 30/50\n",
            "469/469 [==============================] - 2s 4ms/step - loss: 0.0403 - accuracy: 0.9873 - val_loss: 0.0509 - val_accuracy: 0.9831\n",
            "Epoch 31/50\n",
            "469/469 [==============================] - 2s 4ms/step - loss: 0.0397 - accuracy: 0.9872 - val_loss: 0.0516 - val_accuracy: 0.9830\n",
            "Epoch 32/50\n",
            "469/469 [==============================] - 2s 4ms/step - loss: 0.0380 - accuracy: 0.9879 - val_loss: 0.0514 - val_accuracy: 0.9838\n",
            "Epoch 33/50\n",
            "469/469 [==============================] - 2s 5ms/step - loss: 0.0368 - accuracy: 0.9888 - val_loss: 0.0474 - val_accuracy: 0.9829\n",
            "Epoch 34/50\n",
            "469/469 [==============================] - 2s 4ms/step - loss: 0.0355 - accuracy: 0.9890 - val_loss: 0.0463 - val_accuracy: 0.9860\n",
            "Epoch 35/50\n",
            "469/469 [==============================] - 2s 4ms/step - loss: 0.0346 - accuracy: 0.9890 - val_loss: 0.0430 - val_accuracy: 0.9854\n",
            "Epoch 36/50\n",
            "469/469 [==============================] - 2s 4ms/step - loss: 0.0338 - accuracy: 0.9896 - val_loss: 0.0490 - val_accuracy: 0.9833\n",
            "Epoch 37/50\n",
            "469/469 [==============================] - 2s 4ms/step - loss: 0.0331 - accuracy: 0.9891 - val_loss: 0.0533 - val_accuracy: 0.9821\n",
            "Epoch 38/50\n",
            "469/469 [==============================] - 2s 4ms/step - loss: 0.0318 - accuracy: 0.9900 - val_loss: 0.0454 - val_accuracy: 0.9851\n",
            "Epoch 39/50\n",
            "469/469 [==============================] - 2s 5ms/step - loss: 0.0312 - accuracy: 0.9904 - val_loss: 0.0522 - val_accuracy: 0.9823\n",
            "Epoch 40/50\n",
            "469/469 [==============================] - 2s 5ms/step - loss: 0.0307 - accuracy: 0.9905 - val_loss: 0.0428 - val_accuracy: 0.9859\n",
            "Epoch 41/50\n",
            "469/469 [==============================] - 2s 4ms/step - loss: 0.0297 - accuracy: 0.9906 - val_loss: 0.0426 - val_accuracy: 0.9859\n",
            "Epoch 42/50\n",
            "469/469 [==============================] - 2s 5ms/step - loss: 0.0285 - accuracy: 0.9911 - val_loss: 0.0427 - val_accuracy: 0.9854\n",
            "Epoch 43/50\n",
            "469/469 [==============================] - 2s 4ms/step - loss: 0.0276 - accuracy: 0.9915 - val_loss: 0.0417 - val_accuracy: 0.9868\n",
            "Epoch 44/50\n",
            "469/469 [==============================] - 2s 4ms/step - loss: 0.0276 - accuracy: 0.9916 - val_loss: 0.0455 - val_accuracy: 0.9848\n",
            "Epoch 45/50\n",
            "469/469 [==============================] - 2s 4ms/step - loss: 0.0266 - accuracy: 0.9917 - val_loss: 0.0601 - val_accuracy: 0.9810\n",
            "Epoch 46/50\n",
            "469/469 [==============================] - 2s 4ms/step - loss: 0.0259 - accuracy: 0.9920 - val_loss: 0.0438 - val_accuracy: 0.9867\n",
            "Epoch 47/50\n",
            "469/469 [==============================] - 2s 4ms/step - loss: 0.0252 - accuracy: 0.9923 - val_loss: 0.0467 - val_accuracy: 0.9850\n",
            "Epoch 48/50\n",
            "469/469 [==============================] - 2s 4ms/step - loss: 0.0249 - accuracy: 0.9921 - val_loss: 0.0442 - val_accuracy: 0.9848\n",
            "Epoch 49/50\n",
            "469/469 [==============================] - 2s 4ms/step - loss: 0.0237 - accuracy: 0.9925 - val_loss: 0.0436 - val_accuracy: 0.9852\n",
            "Epoch 50/50\n",
            "469/469 [==============================] - 2s 5ms/step - loss: 0.0236 - accuracy: 0.9925 - val_loss: 0.0489 - val_accuracy: 0.9836\n"
          ]
        }
      ]
    },
    {
      "cell_type": "code",
      "metadata": {
        "id": "jcbloAh5O2GP",
        "colab": {
          "base_uri": "https://localhost:8080/",
          "height": 282
        },
        "outputId": "64a1b9a3-7588-45bc-fe6e-f4d3829bbb63"
      },
      "source": [
        "import matplotlib.pyplot as plt\n",
        "\n",
        "# Visualize training data\n",
        "plt.imshow(x_train[1234])\n",
        "plt.show()\n",
        "print('Label: ', y_train_oh[1234])"
      ],
      "execution_count": 25,
      "outputs": [
        {
          "output_type": "display_data",
          "data": {
            "text/plain": [
              "<Figure size 432x288 with 1 Axes>"
            ],
            "image/png": "[encoded data removed]"
          },
          "metadata": {
            "needs_background": "light"
          }
        },
        {
          "output_type": "stream",
          "name": "stdout",
          "text": [
            "Label:  [0. 0. 0. 1. 0. 0. 0. 0. 0. 0.]\n"
          ]
        }
      ]
    },
    {
      "cell_type": "code",
      "metadata": {
        "id": "sdJM40mjQiz5",
        "colab": {
          "base_uri": "https://localhost:8080/",
          "height": 317
        },
        "outputId": "983956e1-6e07-4d23-d42f-fb74023e4ade"
      },
      "source": [
        "# Demo using a pretrained CNN model\n",
        "cnn = LeNetCNN()\n",
        "cnn.load('trained_model.h5')\n",
        "\n",
        "pred = cnn.predict(x_test_norm)\n",
        "plt.imshow(x_test[1000])\n",
        "plt.show()\n",
        "print('Predicted label: ', np.argmax(pred[1000]))\n",
        "print('Ground-truth label: ', y_test[1000])"
      ],
      "execution_count": 26,
      "outputs": [
        {
          "output_type": "stream",
          "name": "stdout",
          "text": [
            "313/313 [==============================] - 1s 2ms/step\n"
          ]
        },
        {
          "output_type": "display_data",
          "data": {
            "text/plain": [
              "<Figure size 432x288 with 1 Axes>"
            ],
            "image/png": "[encoded data removed]"
          },
          "metadata": {
            "needs_background": "light"
          }
        },
        {
          "output_type": "stream",
          "name": "stdout",
          "text": [
            "Predicted label:  9\n",
            "Ground-truth label:  9\n"
          ]
        }
      ]
    },
    {
      "cell_type": "code",
      "source": [
        "y_pred = np.array([np.argmax(i) for i in pred])\n",
        "accu(y_test, y_pred) "
      ],
      "metadata": {
        "colab": {
          "base_uri": "https://localhost:8080/",
          "height": 296
        },
        "id": "Tr5b6liSh0Vh",
        "outputId": "eac0fbab-95ec-4f6e-94a3-d60dbe643d23"
      },
      "execution_count": 28,
      "outputs": [
        {
          "output_type": "display_data",
          "data": {
            "text/plain": [
              "<Figure size 432x288 with 2 Axes>"
            ],
            "image/png": "[encoded data removed]"
          },
          "metadata": {
            "needs_background": "light"
          }
        },
        {
          "output_type": "execute_result",
          "data": {
            "text/plain": [
              "(0.9836, 0.9834768601913358)"
            ]
          },
          "metadata": {},
          "execution_count": 28
        }
      ]
    },
    {
      "cell_type": "code",
      "metadata": {
        "id": "MsV99FYkTA9V",
        "colab": {
          "base_uri": "https://localhost:8080/"
        },
        "outputId": "f9844cf9-6de2-4df3-8249-51533cb18c8f"
      },
      "source": [
        "pred_label = cnn.predict(x_test_norm)"
      ],
      "execution_count": 29,
      "outputs": [
        {
          "output_type": "stream",
          "name": "stdout",
          "text": [
            "313/313 [==============================] - 1s 2ms/step\n"
          ]
        }
      ]
    },
    {
      "cell_type": "code",
      "metadata": {
        "id": "1jFSA6hUTxaV",
        "colab": {
          "base_uri": "https://localhost:8080/",
          "height": 300
        },
        "outputId": "6423d0af-f7c6-4542-d28c-997adc300a11"
      },
      "source": [
        "plt.imshow(x_test[123])\n",
        "plt.show()\n",
        "print('Predicted label: ', np.argmax(pred_label[123]))\n",
        "print('Ground truth label: ', y_test[123])"
      ],
      "execution_count": 30,
      "outputs": [
        {
          "output_type": "display_data",
          "data": {
            "text/plain": [
              "<Figure size 432x288 with 1 Axes>"
            ],
            "image/png": "[encoded data removed]"
          },
          "metadata": {
            "needs_background": "light"
          }
        },
        {
          "output_type": "stream",
          "name": "stdout",
          "text": [
            "Predicted label:  6\n",
            "Ground truth label:  6\n"
          ]
        }
      ]
    },
    {
      "cell_type": "code",
      "metadata": {
        "id": "g-IZUnc-VRk1",
        "colab": {
          "base_uri": "https://localhost:8080/"
        },
        "outputId": "224f527b-7500-42c6-eb9e-389a9cffc095"
      },
      "source": [
        "from keras.datasets import cifar10\n",
        "\n",
        "cifar10.load_data()"
      ],
      "execution_count": 31,
      "outputs": [
        {
          "output_type": "stream",
          "name": "stdout",
          "text": [
            "Downloading data from https://www.cs.toronto.edu/~kriz/cifar-10-python.tar.gz\n",
            "170498071/170498071 [==============================] - 14s 0us/step\n"
          ]
        },
        {
          "output_type": "execute_result",
          "data": {
            "text/plain": [
              "((array([[[[ 59,  62,  63],\n",
              "           [ 43,  46,  45],\n",
              "           [ 50,  48,  43],\n",
              "           ...,\n",
              "           [158, 132, 108],\n",
              "           [152, 125, 102],\n",
              "           [148, 124, 103]],\n",
              "  \n",
              "          [[ 16,  20,  20],\n",
              "           [  0,   0,   0],\n",
              "           [ 18,   8,   0],\n",
              "           ...,\n",
              "           [123,  88,  55],\n",
              "           [119,  83,  50],\n",
              "           [122,  87,  57]],\n",
              "  \n",
              "          [[ 25,  24,  21],\n",
              "           [ 16,   7,   0],\n",
              "           [ 49,  27,   8],\n",
              "           ...,\n",
              "           [118,  84,  50],\n",
              "           [120,  84,  50],\n",
              "           [109,  73,  42]],\n",
              "  \n",
              "          ...,\n",
              "  \n",
              "          [[208, 170,  96],\n",
              "           [201, 153,  34],\n",
              "           [198, 161,  26],\n",
              "           ...,\n",
              "           [160, 133,  70],\n",
              "           [ 56,  31,   7],\n",
              "           [ 53,  34,  20]],\n",
              "  \n",
              "          [[180, 139,  96],\n",
              "           [173, 123,  42],\n",
              "           [186, 144,  30],\n",
              "           ...,\n",
              "           [184, 148,  94],\n",
              "           [ 97,  62,  34],\n",
              "           [ 83,  53,  34]],\n",
              "  \n",
              "          [[177, 144, 116],\n",
              "           [168, 129,  94],\n",
              "           [179, 142,  87],\n",
              "           ...,\n",
              "           [216, 184, 140],\n",
              "           [151, 118,  84],\n",
              "           [123,  92,  72]]],\n",
              "  \n",
              "  \n",
              "         [[[154, 177, 187],\n",
              "           [126, 137, 136],\n",
              "           [105, 104,  95],\n",
              "           ...,\n",
              "           [ 91,  95,  71],\n",
              "           [ 87,  90,  71],\n",
              "           [ 79,  81,  70]],\n",
              "  \n",
              "          [[140, 160, 169],\n",
              "           [145, 153, 154],\n",
              "           [125, 125, 118],\n",
              "           ...,\n",
              "           [ 96,  99,  78],\n",
              "           [ 77,  80,  62],\n",
              "           [ 71,  73,  61]],\n",
              "  \n",
              "          [[140, 155, 164],\n",
              "           [139, 146, 149],\n",
              "           [115, 115, 112],\n",
              "           ...,\n",
              "           [ 79,  82,  64],\n",
              "           [ 68,  70,  55],\n",
              "           [ 67,  69,  55]],\n",
              "  \n",
              "          ...,\n",
              "  \n",
              "          [[175, 167, 166],\n",
              "           [156, 154, 160],\n",
              "           [154, 160, 170],\n",
              "           ...,\n",
              "           [ 42,  34,  36],\n",
              "           [ 61,  53,  57],\n",
              "           [ 93,  83,  91]],\n",
              "  \n",
              "          [[165, 154, 128],\n",
              "           [156, 152, 130],\n",
              "           [159, 161, 142],\n",
              "           ...,\n",
              "           [103,  93,  96],\n",
              "           [123, 114, 120],\n",
              "           [131, 121, 131]],\n",
              "  \n",
              "          [[163, 148, 120],\n",
              "           [158, 148, 122],\n",
              "           [163, 156, 133],\n",
              "           ...,\n",
              "           [143, 133, 139],\n",
              "           [143, 134, 142],\n",
              "           [143, 133, 144]]],\n",
              "  \n",
              "  \n",
              "         [[[255, 255, 255],\n",
              "           [253, 253, 253],\n",
              "           [253, 253, 253],\n",
              "           ...,\n",
              "           [253, 253, 253],\n",
              "           [253, 253, 253],\n",
              "           [253, 253, 253]],\n",
              "  \n",
              "          [[255, 255, 255],\n",
              "           [255, 255, 255],\n",
              "           [255, 255, 255],\n",
              "           ...,\n",
              "           [255, 255, 255],\n",
              "           [255, 255, 255],\n",
              "           [255, 255, 255]],\n",
              "  \n",
              "          [[255, 255, 255],\n",
              "           [254, 254, 254],\n",
              "           [254, 254, 254],\n",
              "           ...,\n",
              "           [254, 254, 254],\n",
              "           [254, 254, 254],\n",
              "           [254, 254, 254]],\n",
              "  \n",
              "          ...,\n",
              "  \n",
              "          [[113, 120, 112],\n",
              "           [111, 118, 111],\n",
              "           [105, 112, 106],\n",
              "           ...,\n",
              "           [ 72,  81,  80],\n",
              "           [ 72,  80,  79],\n",
              "           [ 72,  80,  79]],\n",
              "  \n",
              "          [[111, 118, 110],\n",
              "           [104, 111, 104],\n",
              "           [ 99, 106,  98],\n",
              "           ...,\n",
              "           [ 68,  75,  73],\n",
              "           [ 70,  76,  75],\n",
              "           [ 78,  84,  82]],\n",
              "  \n",
              "          [[106, 113, 105],\n",
              "           [ 99, 106,  98],\n",
              "           [ 95, 102,  94],\n",
              "           ...,\n",
              "           [ 78,  85,  83],\n",
              "           [ 79,  85,  83],\n",
              "           [ 80,  86,  84]]],\n",
              "  \n",
              "  \n",
              "         ...,\n",
              "  \n",
              "  \n",
              "         [[[ 35, 178, 235],\n",
              "           [ 40, 176, 239],\n",
              "           [ 42, 176, 241],\n",
              "           ...,\n",
              "           [ 99, 177, 219],\n",
              "           [ 79, 147, 197],\n",
              "           [ 89, 148, 189]],\n",
              "  \n",
              "          [[ 57, 182, 234],\n",
              "           [ 44, 184, 250],\n",
              "           [ 50, 183, 240],\n",
              "           ...,\n",
              "           [156, 182, 200],\n",
              "           [141, 177, 206],\n",
              "           [116, 149, 175]],\n",
              "  \n",
              "          [[ 98, 197, 237],\n",
              "           [ 64, 189, 252],\n",
              "           [ 69, 192, 245],\n",
              "           ...,\n",
              "           [188, 195, 206],\n",
              "           [119, 135, 147],\n",
              "           [ 61,  79,  90]],\n",
              "  \n",
              "          ...,\n",
              "  \n",
              "          [[ 73,  79,  77],\n",
              "           [ 53,  63,  68],\n",
              "           [ 54,  68,  80],\n",
              "           ...,\n",
              "           [ 17,  40,  64],\n",
              "           [ 21,  36,  51],\n",
              "           [ 33,  48,  49]],\n",
              "  \n",
              "          [[ 61,  68,  75],\n",
              "           [ 55,  70,  86],\n",
              "           [ 57,  79, 103],\n",
              "           ...,\n",
              "           [ 24,  48,  72],\n",
              "           [ 17,  35,  53],\n",
              "           [  7,  23,  32]],\n",
              "  \n",
              "          [[ 44,  56,  73],\n",
              "           [ 46,  66,  88],\n",
              "           [ 49,  77, 105],\n",
              "           ...,\n",
              "           [ 27,  52,  77],\n",
              "           [ 21,  43,  66],\n",
              "           [ 12,  31,  50]]],\n",
              "  \n",
              "  \n",
              "         [[[189, 211, 240],\n",
              "           [186, 208, 236],\n",
              "           [185, 207, 235],\n",
              "           ...,\n",
              "           [175, 195, 224],\n",
              "           [172, 194, 222],\n",
              "           [169, 194, 220]],\n",
              "  \n",
              "          [[194, 210, 239],\n",
              "           [191, 207, 236],\n",
              "           [190, 206, 235],\n",
              "           ...,\n",
              "           [173, 192, 220],\n",
              "           [171, 191, 218],\n",
              "           [167, 190, 216]],\n",
              "  \n",
              "          [[208, 219, 244],\n",
              "           [205, 216, 240],\n",
              "           [204, 215, 239],\n",
              "           ...,\n",
              "           [175, 191, 217],\n",
              "           [172, 190, 216],\n",
              "           [169, 191, 215]],\n",
              "  \n",
              "          ...,\n",
              "  \n",
              "          [[207, 199, 181],\n",
              "           [203, 195, 175],\n",
              "           [203, 196, 173],\n",
              "           ...,\n",
              "           [135, 132, 127],\n",
              "           [162, 158, 150],\n",
              "           [168, 163, 151]],\n",
              "  \n",
              "          [[198, 190, 170],\n",
              "           [189, 181, 159],\n",
              "           [180, 172, 147],\n",
              "           ...,\n",
              "           [178, 171, 160],\n",
              "           [175, 169, 156],\n",
              "           [175, 169, 154]],\n",
              "  \n",
              "          [[198, 189, 173],\n",
              "           [189, 181, 162],\n",
              "           [178, 170, 149],\n",
              "           ...,\n",
              "           [195, 184, 169],\n",
              "           [196, 189, 171],\n",
              "           [195, 190, 171]]],\n",
              "  \n",
              "  \n",
              "         [[[229, 229, 239],\n",
              "           [236, 237, 247],\n",
              "           [234, 236, 247],\n",
              "           ...,\n",
              "           [217, 219, 233],\n",
              "           [221, 223, 234],\n",
              "           [222, 223, 233]],\n",
              "  \n",
              "          [[222, 221, 229],\n",
              "           [239, 239, 249],\n",
              "           [233, 234, 246],\n",
              "           ...,\n",
              "           [223, 223, 236],\n",
              "           [227, 228, 238],\n",
              "           [210, 211, 220]],\n",
              "  \n",
              "          [[213, 206, 211],\n",
              "           [234, 232, 239],\n",
              "           [231, 233, 244],\n",
              "           ...,\n",
              "           [220, 220, 232],\n",
              "           [220, 219, 232],\n",
              "           [202, 203, 215]],\n",
              "  \n",
              "          ...,\n",
              "  \n",
              "          [[150, 143, 135],\n",
              "           [140, 135, 127],\n",
              "           [132, 127, 120],\n",
              "           ...,\n",
              "           [224, 222, 218],\n",
              "           [230, 228, 225],\n",
              "           [241, 241, 238]],\n",
              "  \n",
              "          [[137, 132, 126],\n",
              "           [130, 127, 120],\n",
              "           [125, 121, 115],\n",
              "           ...,\n",
              "           [181, 180, 178],\n",
              "           [202, 201, 198],\n",
              "           [212, 211, 207]],\n",
              "  \n",
              "          [[122, 119, 114],\n",
              "           [118, 116, 110],\n",
              "           [120, 116, 111],\n",
              "           ...,\n",
              "           [179, 177, 173],\n",
              "           [164, 164, 162],\n",
              "           [163, 163, 161]]]], dtype=uint8), array([[6],\n",
              "         [9],\n",
              "         [9],\n",
              "         ...,\n",
              "         [9],\n",
              "         [1],\n",
              "         [1]], dtype=uint8)), (array([[[[158, 112,  49],\n",
              "           [159, 111,  47],\n",
              "           [165, 116,  51],\n",
              "           ...,\n",
              "           [137,  95,  36],\n",
              "           [126,  91,  36],\n",
              "           [116,  85,  33]],\n",
              "  \n",
              "          [[152, 112,  51],\n",
              "           [151, 110,  40],\n",
              "           [159, 114,  45],\n",
              "           ...,\n",
              "           [136,  95,  31],\n",
              "           [125,  91,  32],\n",
              "           [119,  88,  34]],\n",
              "  \n",
              "          [[151, 110,  47],\n",
              "           [151, 109,  33],\n",
              "           [158, 111,  36],\n",
              "           ...,\n",
              "           [139,  98,  34],\n",
              "           [130,  95,  34],\n",
              "           [120,  89,  33]],\n",
              "  \n",
              "          ...,\n",
              "  \n",
              "          [[ 68, 124, 177],\n",
              "           [ 42, 100, 148],\n",
              "           [ 31,  88, 137],\n",
              "           ...,\n",
              "           [ 38,  97, 146],\n",
              "           [ 13,  64, 108],\n",
              "           [ 40,  85, 127]],\n",
              "  \n",
              "          [[ 61, 116, 168],\n",
              "           [ 49, 102, 148],\n",
              "           [ 35,  85, 132],\n",
              "           ...,\n",
              "           [ 26,  82, 130],\n",
              "           [ 29,  82, 126],\n",
              "           [ 20,  64, 107]],\n",
              "  \n",
              "          [[ 54, 107, 160],\n",
              "           [ 56, 105, 149],\n",
              "           [ 45,  89, 132],\n",
              "           ...,\n",
              "           [ 24,  77, 124],\n",
              "           [ 34,  84, 129],\n",
              "           [ 21,  67, 110]]],\n",
              "  \n",
              "  \n",
              "         [[[235, 235, 235],\n",
              "           [231, 231, 231],\n",
              "           [232, 232, 232],\n",
              "           ...,\n",
              "           [233, 233, 233],\n",
              "           [233, 233, 233],\n",
              "           [232, 232, 232]],\n",
              "  \n",
              "          [[238, 238, 238],\n",
              "           [235, 235, 235],\n",
              "           [235, 235, 235],\n",
              "           ...,\n",
              "           [236, 236, 236],\n",
              "           [236, 236, 236],\n",
              "           [235, 235, 235]],\n",
              "  \n",
              "          [[237, 237, 237],\n",
              "           [234, 234, 234],\n",
              "           [234, 234, 234],\n",
              "           ...,\n",
              "           [235, 235, 235],\n",
              "           [235, 235, 235],\n",
              "           [234, 234, 234]],\n",
              "  \n",
              "          ...,\n",
              "  \n",
              "          [[ 87,  99,  89],\n",
              "           [ 43,  51,  37],\n",
              "           [ 19,  23,  11],\n",
              "           ...,\n",
              "           [169, 184, 179],\n",
              "           [182, 197, 193],\n",
              "           [188, 202, 201]],\n",
              "  \n",
              "          [[ 82,  96,  82],\n",
              "           [ 46,  57,  36],\n",
              "           [ 36,  44,  22],\n",
              "           ...,\n",
              "           [174, 189, 183],\n",
              "           [185, 200, 196],\n",
              "           [187, 202, 200]],\n",
              "  \n",
              "          [[ 85, 101,  83],\n",
              "           [ 62,  75,  48],\n",
              "           [ 58,  67,  38],\n",
              "           ...,\n",
              "           [168, 183, 178],\n",
              "           [180, 195, 191],\n",
              "           [186, 200, 199]]],\n",
              "  \n",
              "  \n",
              "         [[[158, 190, 222],\n",
              "           [158, 187, 218],\n",
              "           [139, 166, 194],\n",
              "           ...,\n",
              "           [228, 231, 234],\n",
              "           [237, 239, 243],\n",
              "           [238, 241, 246]],\n",
              "  \n",
              "          [[170, 200, 229],\n",
              "           [172, 199, 226],\n",
              "           [151, 176, 201],\n",
              "           ...,\n",
              "           [232, 232, 236],\n",
              "           [246, 246, 250],\n",
              "           [246, 247, 251]],\n",
              "  \n",
              "          [[174, 201, 225],\n",
              "           [176, 200, 222],\n",
              "           [157, 179, 199],\n",
              "           ...,\n",
              "           [230, 229, 232],\n",
              "           [250, 249, 251],\n",
              "           [245, 244, 247]],\n",
              "  \n",
              "          ...,\n",
              "  \n",
              "          [[ 31,  40,  45],\n",
              "           [ 30,  39,  44],\n",
              "           [ 26,  35,  40],\n",
              "           ...,\n",
              "           [ 37,  40,  46],\n",
              "           [  9,  13,  14],\n",
              "           [  4,   7,   5]],\n",
              "  \n",
              "          [[ 23,  34,  39],\n",
              "           [ 27,  38,  43],\n",
              "           [ 25,  36,  41],\n",
              "           ...,\n",
              "           [ 19,  20,  24],\n",
              "           [  4,   6,   3],\n",
              "           [  5,   7,   3]],\n",
              "  \n",
              "          [[ 28,  41,  47],\n",
              "           [ 30,  43,  50],\n",
              "           [ 32,  45,  52],\n",
              "           ...,\n",
              "           [  5,   6,   8],\n",
              "           [  4,   5,   3],\n",
              "           [  7,   8,   7]]],\n",
              "  \n",
              "  \n",
              "         ...,\n",
              "  \n",
              "  \n",
              "         [[[ 20,  15,  12],\n",
              "           [ 19,  14,  11],\n",
              "           [ 15,  14,  11],\n",
              "           ...,\n",
              "           [ 10,   9,   7],\n",
              "           [ 12,  11,   9],\n",
              "           [ 13,  12,  10]],\n",
              "  \n",
              "          [[ 21,  16,  13],\n",
              "           [ 20,  16,  13],\n",
              "           [ 18,  17,  12],\n",
              "           ...,\n",
              "           [ 10,   9,   7],\n",
              "           [ 10,   9,   7],\n",
              "           [ 12,  11,   9]],\n",
              "  \n",
              "          [[ 21,  16,  13],\n",
              "           [ 21,  17,  12],\n",
              "           [ 20,  18,  11],\n",
              "           ...,\n",
              "           [ 12,  11,   9],\n",
              "           [ 12,  11,   9],\n",
              "           [ 13,  12,  10]],\n",
              "  \n",
              "          ...,\n",
              "  \n",
              "          [[ 33,  25,  13],\n",
              "           [ 34,  26,  15],\n",
              "           [ 34,  26,  15],\n",
              "           ...,\n",
              "           [ 28,  25,  52],\n",
              "           [ 29,  25,  58],\n",
              "           [ 23,  20,  42]],\n",
              "  \n",
              "          [[ 33,  25,  14],\n",
              "           [ 34,  26,  15],\n",
              "           [ 34,  26,  15],\n",
              "           ...,\n",
              "           [ 27,  24,  52],\n",
              "           [ 27,  24,  56],\n",
              "           [ 25,  22,  47]],\n",
              "  \n",
              "          [[ 31,  23,  12],\n",
              "           [ 32,  24,  13],\n",
              "           [ 33,  25,  14],\n",
              "           ...,\n",
              "           [ 24,  23,  50],\n",
              "           [ 26,  23,  53],\n",
              "           [ 25,  20,  47]]],\n",
              "  \n",
              "  \n",
              "         [[[ 25,  40,  12],\n",
              "           [ 15,  36,   3],\n",
              "           [ 23,  41,  18],\n",
              "           ...,\n",
              "           [ 61,  82,  78],\n",
              "           [ 92, 113, 112],\n",
              "           [ 75,  89,  92]],\n",
              "  \n",
              "          [[ 12,  25,   6],\n",
              "           [ 20,  37,   7],\n",
              "           [ 24,  36,  15],\n",
              "           ...,\n",
              "           [115, 134, 138],\n",
              "           [149, 168, 177],\n",
              "           [104, 117, 131]],\n",
              "  \n",
              "          [[ 12,  25,  11],\n",
              "           [ 15,  29,   6],\n",
              "           [ 34,  40,  24],\n",
              "           ...,\n",
              "           [154, 172, 182],\n",
              "           [157, 175, 192],\n",
              "           [116, 129, 151]],\n",
              "  \n",
              "          ...,\n",
              "  \n",
              "          [[100, 129,  81],\n",
              "           [103, 132,  84],\n",
              "           [104, 134,  86],\n",
              "           ...,\n",
              "           [ 97, 128,  84],\n",
              "           [ 98, 126,  84],\n",
              "           [ 91, 121,  79]],\n",
              "  \n",
              "          [[103, 132,  83],\n",
              "           [104, 131,  83],\n",
              "           [107, 135,  87],\n",
              "           ...,\n",
              "           [101, 132,  87],\n",
              "           [ 99, 127,  84],\n",
              "           [ 92, 121,  79]],\n",
              "  \n",
              "          [[ 95, 126,  78],\n",
              "           [ 95, 123,  76],\n",
              "           [101, 128,  81],\n",
              "           ...,\n",
              "           [ 93, 124,  80],\n",
              "           [ 95, 123,  81],\n",
              "           [ 92, 120,  80]]],\n",
              "  \n",
              "  \n",
              "         [[[ 73,  78,  75],\n",
              "           [ 98, 103, 113],\n",
              "           [ 99, 106, 114],\n",
              "           ...,\n",
              "           [135, 150, 152],\n",
              "           [135, 149, 154],\n",
              "           [203, 215, 223]],\n",
              "  \n",
              "          [[ 69,  73,  70],\n",
              "           [ 84,  89,  97],\n",
              "           [ 68,  75,  81],\n",
              "           ...,\n",
              "           [ 85,  95,  89],\n",
              "           [ 71,  82,  80],\n",
              "           [120, 133, 135]],\n",
              "  \n",
              "          [[ 69,  73,  70],\n",
              "           [ 90,  95, 100],\n",
              "           [ 62,  71,  74],\n",
              "           ...,\n",
              "           [ 74,  81,  70],\n",
              "           [ 53,  62,  54],\n",
              "           [ 62,  74,  69]],\n",
              "  \n",
              "          ...,\n",
              "  \n",
              "          [[123, 128,  96],\n",
              "           [132, 132, 102],\n",
              "           [129, 128, 100],\n",
              "           ...,\n",
              "           [108, 107,  88],\n",
              "           [ 62,  60,  55],\n",
              "           [ 27,  27,  28]],\n",
              "  \n",
              "          [[115, 121,  91],\n",
              "           [123, 124,  95],\n",
              "           [129, 126,  99],\n",
              "           ...,\n",
              "           [115, 116,  94],\n",
              "           [ 66,  65,  59],\n",
              "           [ 27,  27,  27]],\n",
              "  \n",
              "          [[116, 120,  90],\n",
              "           [121, 122,  94],\n",
              "           [129, 128, 101],\n",
              "           ...,\n",
              "           [116, 115,  94],\n",
              "           [ 68,  65,  58],\n",
              "           [ 27,  26,  26]]]], dtype=uint8), array([[3],\n",
              "         [8],\n",
              "         [8],\n",
              "         ...,\n",
              "         [5],\n",
              "         [1],\n",
              "         [7]], dtype=uint8)))"
            ]
          },
          "metadata": {},
          "execution_count": 31
        }
      ]
    }
  ]
}