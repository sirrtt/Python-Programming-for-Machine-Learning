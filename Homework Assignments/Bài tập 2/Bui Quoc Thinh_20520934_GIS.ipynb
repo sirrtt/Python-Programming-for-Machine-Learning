{
 "cells": [
  {
   "cell_type": "markdown",
   "metadata": {},
   "source": [
    "# Họ và tên: Bùi Quốc Thịnh\n",
    "# Mã số sinh viên: 20520934"
   ]
  },
  {
   "cell_type": "markdown",
   "metadata": {},
   "source": [
    "## Import library"
   ]
  },
  {
   "cell_type": "code",
   "execution_count": 35,
   "metadata": {
    "scrolled": true
   },
   "outputs": [],
   "source": [
    "import geopandas"
   ]
  },
  {
   "cell_type": "markdown",
   "metadata": {},
   "source": [
    "## Read dataset"
   ]
  },
  {
   "cell_type": "code",
   "execution_count": 36,
   "metadata": {},
   "outputs": [
    {
     "data": {
      "text/html": [
       "<div>\n",
       "<style scoped>\n",
       "    .dataframe tbody tr th:only-of-type {\n",
       "        vertical-align: middle;\n",
       "    }\n",
       "\n",
       "    .dataframe tbody tr th {\n",
       "        vertical-align: top;\n",
       "    }\n",
       "\n",
       "    .dataframe thead th {\n",
       "        text-align: right;\n",
       "    }\n",
       "</style>\n",
       "<table border=\"1\" class=\"dataframe\">\n",
       "  <thead>\n",
       "    <tr style=\"text-align: right;\">\n",
       "      <th></th>\n",
       "      <th>Com_Name</th>\n",
       "      <th>Dist_Name</th>\n",
       "      <th>Com_ID</th>\n",
       "      <th>Dist_ID</th>\n",
       "      <th>Level</th>\n",
       "      <th>Pop_2009</th>\n",
       "      <th>Pop_2019</th>\n",
       "      <th>Den_2009</th>\n",
       "      <th>Den_2019</th>\n",
       "      <th>Shape_Leng</th>\n",
       "      <th>Shape_Area</th>\n",
       "      <th>geometry</th>\n",
       "    </tr>\n",
       "  </thead>\n",
       "  <tbody>\n",
       "    <tr>\n",
       "      <th>0</th>\n",
       "      <td>Tan Dinh</td>\n",
       "      <td>District 1</td>\n",
       "      <td>26734</td>\n",
       "      <td>760</td>\n",
       "      <td>Ward</td>\n",
       "      <td>26571.0</td>\n",
       "      <td>23258.0</td>\n",
       "      <td>41942.70</td>\n",
       "      <td>36713.10</td>\n",
       "      <td>3679.098196</td>\n",
       "      <td>6.334981e+05</td>\n",
       "      <td>POLYGON ((684350.511 1193546.266, 684363.810 1...</td>\n",
       "    </tr>\n",
       "    <tr>\n",
       "      <th>1</th>\n",
       "      <td>Ben Nghe</td>\n",
       "      <td>District 1</td>\n",
       "      <td>26740</td>\n",
       "      <td>760</td>\n",
       "      <td>Ward</td>\n",
       "      <td>13580.0</td>\n",
       "      <td>10633.0</td>\n",
       "      <td>5480.09</td>\n",
       "      <td>4290.86</td>\n",
       "      <td>6978.149149</td>\n",
       "      <td>2.478041e+06</td>\n",
       "      <td>POLYGON ((686564.657 1193462.473, 686588.924 1...</td>\n",
       "    </tr>\n",
       "    <tr>\n",
       "      <th>2</th>\n",
       "      <td>Cau Ong Lanh</td>\n",
       "      <td>District 1</td>\n",
       "      <td>26752</td>\n",
       "      <td>760</td>\n",
       "      <td>Ward</td>\n",
       "      <td>12917.0</td>\n",
       "      <td>10737.0</td>\n",
       "      <td>56878.90</td>\n",
       "      <td>47279.50</td>\n",
       "      <td>2260.705105</td>\n",
       "      <td>2.270938e+05</td>\n",
       "      <td>POLYGON ((685922.373 1190479.807, 685914.160 1...</td>\n",
       "    </tr>\n",
       "    <tr>\n",
       "      <th>3</th>\n",
       "      <td>Nguyen Thai Binh</td>\n",
       "      <td>District 1</td>\n",
       "      <td>26746</td>\n",
       "      <td>760</td>\n",
       "      <td>Ward</td>\n",
       "      <td>13197.0</td>\n",
       "      <td>9716.0</td>\n",
       "      <td>26798.80</td>\n",
       "      <td>19730.00</td>\n",
       "      <td>3320.174618</td>\n",
       "      <td>4.924426e+05</td>\n",
       "      <td>POLYGON ((685966.333 1190513.667, 685944.353 1...</td>\n",
       "    </tr>\n",
       "    <tr>\n",
       "      <th>4</th>\n",
       "      <td>Co Giang</td>\n",
       "      <td>District 1</td>\n",
       "      <td>26755</td>\n",
       "      <td>760</td>\n",
       "      <td>Ward</td>\n",
       "      <td>18967.0</td>\n",
       "      <td>11517.0</td>\n",
       "      <td>53327.60</td>\n",
       "      <td>32381.20</td>\n",
       "      <td>2525.453814</td>\n",
       "      <td>3.556650e+05</td>\n",
       "      <td>POLYGON ((685514.573 1190211.431, 685547.521 1...</td>\n",
       "    </tr>\n",
       "    <tr>\n",
       "      <th>...</th>\n",
       "      <td>...</td>\n",
       "      <td>...</td>\n",
       "      <td>...</td>\n",
       "      <td>...</td>\n",
       "      <td>...</td>\n",
       "      <td>...</td>\n",
       "      <td>...</td>\n",
       "      <td>...</td>\n",
       "      <td>...</td>\n",
       "      <td>...</td>\n",
       "      <td>...</td>\n",
       "      <td>...</td>\n",
       "    </tr>\n",
       "    <tr>\n",
       "      <th>317</th>\n",
       "      <td>Tan Hung Thuan</td>\n",
       "      <td>District 12</td>\n",
       "      <td>26787</td>\n",
       "      <td>761</td>\n",
       "      <td>Ward</td>\n",
       "      <td>28892.0</td>\n",
       "      <td>33467.0</td>\n",
       "      <td>16053.40</td>\n",
       "      <td>18595.50</td>\n",
       "      <td>6271.308704</td>\n",
       "      <td>1.799659e+06</td>\n",
       "      <td>POLYGON ((677816.513 1197206.772, 677796.932 1...</td>\n",
       "    </tr>\n",
       "    <tr>\n",
       "      <th>318</th>\n",
       "      <td>Ward 17</td>\n",
       "      <td>Go Vap</td>\n",
       "      <td>26875</td>\n",
       "      <td>764</td>\n",
       "      <td>Ward</td>\n",
       "      <td>44226.0</td>\n",
       "      <td>54728.0</td>\n",
       "      <td>38061.20</td>\n",
       "      <td>47099.30</td>\n",
       "      <td>6385.950275</td>\n",
       "      <td>1.161947e+06</td>\n",
       "      <td>POLYGON ((683516.949 1200006.226, 683509.721 1...</td>\n",
       "    </tr>\n",
       "    <tr>\n",
       "      <th>319</th>\n",
       "      <td>Ward 8</td>\n",
       "      <td>Go Vap</td>\n",
       "      <td>26898</td>\n",
       "      <td>764</td>\n",
       "      <td>Ward</td>\n",
       "      <td>26545.0</td>\n",
       "      <td>32778.0</td>\n",
       "      <td>22751.50</td>\n",
       "      <td>28093.70</td>\n",
       "      <td>5409.821020</td>\n",
       "      <td>1.166701e+06</td>\n",
       "      <td>POLYGON ((680928.492 1199066.285, 680984.889 1...</td>\n",
       "    </tr>\n",
       "    <tr>\n",
       "      <th>320</th>\n",
       "      <td>Ward 9</td>\n",
       "      <td>Go Vap</td>\n",
       "      <td>26897</td>\n",
       "      <td>764</td>\n",
       "      <td>Ward</td>\n",
       "      <td>26785.0</td>\n",
       "      <td>34596.0</td>\n",
       "      <td>31843.10</td>\n",
       "      <td>41129.20</td>\n",
       "      <td>3950.799798</td>\n",
       "      <td>8.411288e+05</td>\n",
       "      <td>POLYGON ((681120.443 1199640.183, 681120.846 1...</td>\n",
       "    </tr>\n",
       "    <tr>\n",
       "      <th>321</th>\n",
       "      <td>Ward 12</td>\n",
       "      <td>Go Vap</td>\n",
       "      <td>26881</td>\n",
       "      <td>764</td>\n",
       "      <td>Ward</td>\n",
       "      <td>50356.0</td>\n",
       "      <td>60502.0</td>\n",
       "      <td>35096.20</td>\n",
       "      <td>42167.60</td>\n",
       "      <td>4848.143508</td>\n",
       "      <td>1.434747e+06</td>\n",
       "      <td>POLYGON ((679970.916 1198480.707, 679932.874 1...</td>\n",
       "    </tr>\n",
       "  </tbody>\n",
       "</table>\n",
       "<p>322 rows × 12 columns</p>\n",
       "</div>"
      ],
      "text/plain": [
       "             Com_Name    Dist_Name Com_ID Dist_ID Level  Pop_2009  Pop_2019  \\\n",
       "0            Tan Dinh   District 1  26734     760  Ward   26571.0   23258.0   \n",
       "1            Ben Nghe   District 1  26740     760  Ward   13580.0   10633.0   \n",
       "2        Cau Ong Lanh   District 1  26752     760  Ward   12917.0   10737.0   \n",
       "3    Nguyen Thai Binh   District 1  26746     760  Ward   13197.0    9716.0   \n",
       "4            Co Giang   District 1  26755     760  Ward   18967.0   11517.0   \n",
       "..                ...          ...    ...     ...   ...       ...       ...   \n",
       "317    Tan Hung Thuan  District 12  26787     761  Ward   28892.0   33467.0   \n",
       "318           Ward 17       Go Vap  26875     764  Ward   44226.0   54728.0   \n",
       "319            Ward 8       Go Vap  26898     764  Ward   26545.0   32778.0   \n",
       "320            Ward 9       Go Vap  26897     764  Ward   26785.0   34596.0   \n",
       "321           Ward 12       Go Vap  26881     764  Ward   50356.0   60502.0   \n",
       "\n",
       "     Den_2009  Den_2019   Shape_Leng    Shape_Area  \\\n",
       "0    41942.70  36713.10  3679.098196  6.334981e+05   \n",
       "1     5480.09   4290.86  6978.149149  2.478041e+06   \n",
       "2    56878.90  47279.50  2260.705105  2.270938e+05   \n",
       "3    26798.80  19730.00  3320.174618  4.924426e+05   \n",
       "4    53327.60  32381.20  2525.453814  3.556650e+05   \n",
       "..        ...       ...          ...           ...   \n",
       "317  16053.40  18595.50  6271.308704  1.799659e+06   \n",
       "318  38061.20  47099.30  6385.950275  1.161947e+06   \n",
       "319  22751.50  28093.70  5409.821020  1.166701e+06   \n",
       "320  31843.10  41129.20  3950.799798  8.411288e+05   \n",
       "321  35096.20  42167.60  4848.143508  1.434747e+06   \n",
       "\n",
       "                                              geometry  \n",
       "0    POLYGON ((684350.511 1193546.266, 684363.810 1...  \n",
       "1    POLYGON ((686564.657 1193462.473, 686588.924 1...  \n",
       "2    POLYGON ((685922.373 1190479.807, 685914.160 1...  \n",
       "3    POLYGON ((685966.333 1190513.667, 685944.353 1...  \n",
       "4    POLYGON ((685514.573 1190211.431, 685547.521 1...  \n",
       "..                                                 ...  \n",
       "317  POLYGON ((677816.513 1197206.772, 677796.932 1...  \n",
       "318  POLYGON ((683516.949 1200006.226, 683509.721 1...  \n",
       "319  POLYGON ((680928.492 1199066.285, 680984.889 1...  \n",
       "320  POLYGON ((681120.443 1199640.183, 681120.846 1...  \n",
       "321  POLYGON ((679970.916 1198480.707, 679932.874 1...  \n",
       "\n",
       "[322 rows x 12 columns]"
      ]
     },
     "execution_count": 36,
     "metadata": {},
     "output_type": "execute_result"
    }
   ],
   "source": [
    "gdf = geopandas.read_file(\"D:\\Python programming for machine learning\\GIS\\CSL_HCMC\\Data\\GIS\\Population\\population_HCMC\\population_shapefile\\Population_Ward_Level.shp\")\n",
    "gdf"
   ]
  },
  {
   "cell_type": "code",
   "execution_count": 37,
   "metadata": {
    "colab": {
     "base_uri": "https://localhost:8080/"
    },
    "id": "XOw8xPun774-",
    "outputId": "d4a84ad6-334c-4f4d-9211-4fdcea1c5fc7"
   },
   "outputs": [
    {
     "name": "stdout",
     "output_type": "stream",
     "text": [
      "Phường có diện tích lớn nhất là phường Ly Nhon quận Can Gio\n"
     ]
    }
   ],
   "source": [
    "# Phường nào có diện tích lớn nhất\n",
    "\n",
    "max_com_area = gdf['Shape_Area'].max()\n",
    "comname = gdf[['Com_Name', 'Dist_Name']][gdf['Shape_Area'] == max_com_area]\n",
    "comname = comname.values\n",
    "print(f'Phường có diện tích lớn nhất là phường {comname[0][0]} quận {comname[0][1]}')"
   ]
  },
  {
   "cell_type": "code",
   "execution_count": 38,
   "metadata": {
    "colab": {
     "base_uri": "https://localhost:8080/"
    },
    "id": "KYOyHqI4ASXL",
    "outputId": "816ef9b1-2a8b-4e97-ef40-58cb5d93d0c8"
   },
   "outputs": [
    {
     "name": "stdout",
     "output_type": "stream",
     "text": [
      "Phường có dân số 2019 (Pop_2019) cao nhất là phường Vinh Loc A quận Binh Chanh\n"
     ]
    }
   ],
   "source": [
    "# Phường nào có dân số 2019 (Pop_2019) cao nhất\n",
    "\n",
    "max_pop = gdf['Pop_2019'].max()\n",
    "comname_maxpop = gdf[['Com_Name', 'Dist_Name']][gdf['Pop_2019'] == max_pop]\n",
    "comname_maxpop = comname_maxpop.values\n",
    "print(f'Phường có dân số 2019 (Pop_2019) cao nhất là phường {comname_maxpop[0][0]} quận {comname_maxpop[0][1]}')"
   ]
  },
  {
   "cell_type": "code",
   "execution_count": 39,
   "metadata": {
    "colab": {
     "base_uri": "https://localhost:8080/"
    },
    "id": "juVBhPyRA0CJ",
    "outputId": "e9ca15c4-b83c-4a88-b662-780efe9db828"
   },
   "outputs": [
    {
     "name": "stdout",
     "output_type": "stream",
     "text": [
      "Phường có diện tích nhỏ nhất là phường Ward 3 quận District 10\n"
     ]
    }
   ],
   "source": [
    "# Phường nào có diện tích nhỏ nhất\n",
    "\n",
    "min_com_area = gdf['Shape_Area'].min()\n",
    "comname_minarea = gdf[['Com_Name', 'Dist_Name']][gdf['Shape_Area'] == min_com_area]\n",
    "comname_minarea = comname_minarea.values\n",
    "print(f'Phường có diện tích nhỏ nhất là phường {comname_minarea[0][0]} quận {comname_minarea[0][1]}')"
   ]
  },
  {
   "cell_type": "code",
   "execution_count": 40,
   "metadata": {
    "colab": {
     "base_uri": "https://localhost:8080/"
    },
    "id": "-Ff9TYzABnnR",
    "outputId": "ebd9527b-45b6-49c6-eb13-aabb8e84374e"
   },
   "outputs": [
    {
     "name": "stdout",
     "output_type": "stream",
     "text": [
      "Phường có dân số thấp nhất là phường An Khanh quận District 2\n"
     ]
    }
   ],
   "source": [
    "# Phường nào có dân số thấp nhất (2019)\n",
    "\n",
    "min_pop = gdf['Pop_2019'].min()\n",
    "comname_minpop = gdf[['Com_Name', 'Dist_Name']][gdf['Pop_2019'] == min_pop]\n",
    "comname_minpop = comname_minpop.values\n",
    "print(f'Phường có dân số thấp nhất là phường {comname_minpop[0][0]} quận {comname_minpop[0][1]}')"
   ]
  },
  {
   "cell_type": "code",
   "execution_count": 41,
   "metadata": {
    "colab": {
     "base_uri": "https://localhost:8080/"
    },
    "id": "ciIjB7lHB2DF",
    "outputId": "13f8fd10-7494-4cdf-aa18-cd92a1232758"
   },
   "outputs": [
    {
     "name": "stdout",
     "output_type": "stream",
     "text": [
      "Phường có tốc độ tăng trưởng dân số nhanh nhất (dựa trên Pop_2009 và Pop_2019) là phường Phu Huu quận District 9\n"
     ]
    }
   ],
   "source": [
    "# Phường nào có tốc độ tăng trưởng dân số nhanh nhất (dựa trên Pop_2009 và Pop_2019)\n",
    "\n",
    "max_grow = (gdf['Pop_2019'] / gdf['Pop_2009']).max()\n",
    "comname_maxgrow = gdf[['Com_Name', 'Dist_Name']][(gdf['Pop_2019'] / gdf['Pop_2009']) == max_grow]\n",
    "comname_maxgrow = comname_maxgrow.values\n",
    "print(f'Phường có tốc độ tăng trưởng dân số nhanh nhất (dựa trên Pop_2009 và Pop_2019) là phường {comname_maxgrow[0][0]} quận {comname_maxgrow[0][1]}')"
   ]
  },
  {
   "cell_type": "code",
   "execution_count": 42,
   "metadata": {
    "colab": {
     "base_uri": "https://localhost:8080/"
    },
    "id": "OimOI9XNC8zJ",
    "outputId": "78dbab13-3604-4f0a-8f42-5195992ad459"
   },
   "outputs": [
    {
     "name": "stdout",
     "output_type": "stream",
     "text": [
      "Phường có tốc độ tăng trưởng dân số thấp nhất là phường An Khanh quận District 2\n"
     ]
    }
   ],
   "source": [
    "# Phường nào có tốc độ tăng trưởng dân số thấp nhất\n",
    "\n",
    "min_grow = (gdf['Pop_2019'] / gdf['Pop_2009']).min()\n",
    "comname_mingrow = gdf[['Com_Name', 'Dist_Name']][(gdf['Pop_2019'] / gdf['Pop_2009']) == min_grow]\n",
    "comname_mingrow = comname_mingrow.values\n",
    "print(f'Phường có tốc độ tăng trưởng dân số thấp nhất là phường {comname_mingrow[0][0]} quận {comname_mingrow[0][1]}')"
   ]
  },
  {
   "cell_type": "code",
   "execution_count": 43,
   "metadata": {
    "colab": {
     "base_uri": "https://localhost:8080/"
    },
    "id": "fRD8YHacHIYO",
    "outputId": "bce46abd-59c0-483d-9050-bb8f2f753852"
   },
   "outputs": [
    {
     "name": "stdout",
     "output_type": "stream",
     "text": [
      "Phường có biến động dân số nhanh nhất là phường Vinh Loc A quận Binh Chanh\n"
     ]
    }
   ],
   "source": [
    "# Phường nào có biến động dân số nhanh nhất\n",
    "\n",
    "fastest_grow = (gdf['Pop_2019'] - gdf['Pop_2009']).max()\n",
    "comname_fastestgrow = gdf[['Com_Name', 'Dist_Name']][(gdf['Pop_2019'] - gdf['Pop_2009']) == fastest_grow]\n",
    "comname_fastestgrow = comname_fastestgrow.values\n",
    "print(f'Phường có biến động dân số nhanh nhất là phường {comname_fastestgrow[0][0]} quận {comname_fastestgrow[0][1]}')"
   ]
  },
  {
   "cell_type": "code",
   "execution_count": 44,
   "metadata": {
    "colab": {
     "base_uri": "https://localhost:8080/"
    },
    "id": "Y-jTnTAhIFHL",
    "outputId": "442c4949-00c0-452d-8841-5ac61f823b86"
   },
   "outputs": [
    {
     "name": "stdout",
     "output_type": "stream",
     "text": [
      "Phường có biến động dân số chậm nhất là phường An Khanh quận District 2\n"
     ]
    }
   ],
   "source": [
    "# Phường nào có biến động dân số chậm nhất\n",
    "\n",
    "slowest_grow = (gdf['Pop_2019'] - gdf['Pop_2009']).min()\n",
    "comname_slowestgrow = gdf[['Com_Name', 'Dist_Name']][(gdf['Pop_2019'] - gdf['Pop_2009']) == slowest_grow]\n",
    "comname_slowestgrow = comname_slowestgrow.values\n",
    "print(f'Phường có biến động dân số chậm nhất là phường {comname_slowestgrow[0][0]} quận {comname_slowestgrow[0][1]}')"
   ]
  },
  {
   "cell_type": "code",
   "execution_count": 45,
   "metadata": {
    "colab": {
     "base_uri": "https://localhost:8080/"
    },
    "id": "ZGTmOFcKJmBu",
    "outputId": "c7393f1d-7ba4-4909-c8bb-2a99c0f36d7f"
   },
   "outputs": [
    {
     "name": "stdout",
     "output_type": "stream",
     "text": [
      "Phường có mật độ dân số cao nhất (2019) là phường Ward 8 quận District 4\n"
     ]
    }
   ],
   "source": [
    "# Phường nào có mật độ dân số cao nhất (2019)\n",
    "\n",
    "max_den = gdf['Den_2019'].max()\n",
    "comname_maxden = gdf[['Com_Name', 'Dist_Name']][gdf['Den_2019'] == max_den]\n",
    "comname_maxden = comname_maxden.values\n",
    "print(f'Phường có mật độ dân số cao nhất (2019) là phường {comname_maxden[0][0]} quận {comname_maxden[0][1]}')"
   ]
  },
  {
   "cell_type": "code",
   "execution_count": 46,
   "metadata": {
    "colab": {
     "base_uri": "https://localhost:8080/"
    },
    "id": "ZBkV4b8AKZUH",
    "outputId": "a85942ec-f2b3-473a-d4f6-d0c13fce18bb"
   },
   "outputs": [
    {
     "name": "stdout",
     "output_type": "stream",
     "text": [
      "Phường có mật độ dân số thấp nhất (2019) là phường Ly Nhon quận Can Gio\n"
     ]
    }
   ],
   "source": [
    "# Phường nào có mật độ dân số thấp nhất (2019)\n",
    "\n",
    "min_den = gdf['Den_2019'].min()\n",
    "comname_minden = gdf[['Com_Name', 'Dist_Name']][gdf['Den_2019'] == min_den]\n",
    "comname_minden = comname_minden.values\n",
    "print(f'Phường có mật độ dân số thấp nhất (2019) là phường {comname_minden[0][0]} quận {comname_minden[0][1]}')"
   ]
  }
 ],
 "metadata": {
  "colab": {
   "provenance": []
  },
  "kernelspec": {
   "display_name": "Python 3 (ipykernel)",
   "language": "python",
   "name": "python3"
  },
  "language_info": {
   "codemirror_mode": {
    "name": "ipython",
    "version": 3
   },
   "file_extension": ".py",
   "mimetype": "text/x-python",
   "name": "python",
   "nbconvert_exporter": "python",
   "pygments_lexer": "ipython3",
   "version": "3.9.13"
  }
 },
 "nbformat": 4,
 "nbformat_minor": 1
}
